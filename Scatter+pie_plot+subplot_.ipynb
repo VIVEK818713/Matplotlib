{
  "nbformat": 4,
  "nbformat_minor": 0,
  "metadata": {
    "colab": {
      "name": "4. Scatter+pie plot+subplot .ipynb",
      "provenance": [],
      "collapsed_sections": [],
      "mount_file_id": "1qlGcp1aB0PwQrGzt-ZO6XUfAgTx95VF3",
      "authorship_tag": "ABX9TyPJ4wCFLR0893Vle6n+9HLZ",
      "include_colab_link": true
    },
    "kernelspec": {
      "name": "python3",
      "display_name": "Python 3"
    }
  },
  "cells": [
    {
      "cell_type": "markdown",
      "metadata": {
        "id": "view-in-github",
        "colab_type": "text"
      },
      "source": [
        "<a href=\"https://colab.research.google.com/github/VIVEK818713/Matplotlib/blob/main/Scatter%2Bpie_plot%2Bsubplot_.ipynb\" target=\"_parent\"><img src=\"https://colab.research.google.com/assets/colab-badge.svg\" alt=\"Open In Colab\"/></a>"
      ]
    },
    {
      "cell_type": "markdown",
      "source": [
        "## Scatter plot"
      ],
      "metadata": {
        "id": "EX3Fv5WyzCFR"
      }
    },
    {
      "cell_type": "markdown",
      "source": [
        "* scatter plot is used for numerical data"
      ],
      "metadata": {
        "id": "_hZBnB6UzFss"
      }
    },
    {
      "cell_type": "code",
      "metadata": {
        "id": "S9OikHP0O-P-"
      },
      "source": [
        "import matplotlib.pyplot as plt\n",
        "import pandas as pd\n",
        "from matplotlib import style\n",
        "import numpy as np\n",
        "import random"
      ],
      "execution_count": null,
      "outputs": []
    },
    {
      "cell_type": "markdown",
      "source": [
        "* for data set go to below link\n",
        "*https://www.kaggle.com/lava18/google-play-store-apps"
      ],
      "metadata": {
        "id": "At_tKJb8zl0z"
      }
    },
    {
      "cell_type": "code",
      "metadata": {
        "id": "XUf09EBGRUKN"
      },
      "source": [
        "df=pd.read_csv('/content/drive/MyDrive/Colab Notebooks/03 Matplotlib/googleplaystore.csv')\n",
        "df.head()"
      ],
      "execution_count": null,
      "outputs": []
    },
    {
      "cell_type": "code",
      "source": [
        "df.shape"
      ],
      "metadata": {
        "id": "n7PC5O2B1AEY"
      },
      "execution_count": null,
      "outputs": []
    },
    {
      "cell_type": "markdown",
      "source": [
        "* there are 10841 rows and you don't want to use all rows\n",
        "* lets say you want only1000 rows then use nrows parameter"
      ],
      "metadata": {
        "id": "v-Ruj2ZV0_QB"
      }
    },
    {
      "cell_type": "code",
      "metadata": {
        "id": "yAJz_ZX_Rt4t"
      },
      "source": [
        "df=pd.read_csv('/content/drive/MyDrive/Colab Notebooks/03 Matplotlib/googleplaystore.csv',nrows=1000)\n",
        "df.shape"
      ],
      "execution_count": null,
      "outputs": []
    },
    {
      "cell_type": "markdown",
      "source": [
        "* almost all columns are of string type accept\n",
        "* Rating, reviews, Install ,price\n",
        "* so we will do work on them only"
      ],
      "metadata": {
        "id": "_yX_ltOJ1msQ"
      }
    },
    {
      "cell_type": "markdown",
      "source": [
        "### scatter()"
      ],
      "metadata": {
        "id": "l9_4TDZ417zk"
      }
    },
    {
      "cell_type": "code",
      "metadata": {
        "id": "dsdVRhGXSBjE"
      },
      "source": [
        "x=df['Rating']\n",
        "y=df['Reviews']\n",
        "plt.scatter(x,y)\n",
        "plt.show()"
      ],
      "execution_count": null,
      "outputs": []
    },
    {
      "cell_type": "markdown",
      "source": [
        "* Add title, xlabel, ylabel"
      ],
      "metadata": {
        "id": "sL2YcSjI2GL1"
      }
    },
    {
      "cell_type": "code",
      "metadata": {
        "id": "U3rtKYdqSjew"
      },
      "source": [
        "x=df['Rating']\n",
        "y=df['Reviews']\n",
        "plt.scatter(x,y)\n",
        "plt.title(\"scater plot of google play store\")\n",
        "plt.xlabel(\"Rating\")\n",
        "plt.ylabel(\"Reviews\")\n",
        "plt.show()"
      ],
      "execution_count": null,
      "outputs": []
    },
    {
      "cell_type": "markdown",
      "source": [
        "* If you observe the scatter plot\n",
        "* Then rating from 4 to 4.7 have most reviews"
      ],
      "metadata": {
        "id": "d9PFz9A12b4P"
      }
    },
    {
      "cell_type": "markdown",
      "source": [
        "* Now its time to change the color of scatter\n",
        "* Then use color parameter"
      ],
      "metadata": {
        "id": "pg2vXN8m2qOd"
      }
    },
    {
      "cell_type": "code",
      "metadata": {
        "id": "ECW2O6RWS3LT"
      },
      "source": [
        "plt.scatter(x,y,c='r')\n",
        "plt.title(\"scater plot of google play store\")\n",
        "plt.xlabel(\"Rating\")\n",
        "plt.ylabel(\"Reviews\")\n",
        "plt.show()"
      ],
      "execution_count": null,
      "outputs": []
    },
    {
      "cell_type": "markdown",
      "source": [
        "* increase the size of figure"
      ],
      "metadata": {
        "id": "tP1pS0Iu21Uv"
      }
    },
    {
      "cell_type": "code",
      "metadata": {
        "id": "DDuCKF1hTKqT"
      },
      "source": [
        "plt.figure(figsize=(12,9))\n",
        "plt.scatter(x,y,c='r')\n",
        "plt.title(\"scater plot of google play store\")\n",
        "plt.xlabel(\"Rating\")\n",
        "plt.ylabel(\"Reviews\")\n",
        "plt.show()"
      ],
      "execution_count": null,
      "outputs": []
    },
    {
      "cell_type": "markdown",
      "source": [
        "* if you want to change the marker\n",
        "* Then use marker parameter"
      ],
      "metadata": {
        "id": "bk77N9cI2-L9"
      }
    },
    {
      "cell_type": "code",
      "metadata": {
        "id": "CHy40ZMPTVtS"
      },
      "source": [
        "plt.figure(figsize=(12,9))\n",
        "plt.scatter(x,y,c='r',marker=\"*\")\n",
        "plt.title(\"scater plot of google play store\")\n",
        "plt.xlabel(\"Rating\")\n",
        "plt.ylabel(\"Reviews\")\n",
        "plt.show()"
      ],
      "execution_count": null,
      "outputs": []
    },
    {
      "cell_type": "markdown",
      "source": [
        "* if you want to increase the size of marker in our case '*'\n",
        "* Then use s parameter"
      ],
      "metadata": {
        "id": "wB8rY7CZ3VzI"
      }
    },
    {
      "cell_type": "code",
      "metadata": {
        "id": "ZHzMmDDlTlpe"
      },
      "source": [
        "plt.figure(figsize=(12,9))\n",
        "plt.scatter(x,y,c='r',marker=\"*\",s=100)\n",
        "plt.title(\"scater plot of google play store\")\n",
        "plt.xlabel(\"Rating\")\n",
        "plt.ylabel(\"Reviews\")\n",
        "plt.show()"
      ],
      "execution_count": null,
      "outputs": []
    },
    {
      "cell_type": "markdown",
      "source": [
        "* If you want to change the transperency of scatter\n",
        "* Then use alpha parameter"
      ],
      "metadata": {
        "id": "pyNXdhBO3naA"
      }
    },
    {
      "cell_type": "code",
      "metadata": {
        "id": "pCErwcgVT1gA"
      },
      "source": [
        "plt.figure(figsize=(16,9))\n",
        "plt.scatter(x,y,c='r',marker=\"*\",s=100,alpha=0.5)\n",
        "plt.title(\"scater plot of google play store\")\n",
        "plt.xlabel(\"Rating\")\n",
        "plt.ylabel(\"Reviews\")\n",
        "plt.show()"
      ],
      "execution_count": null,
      "outputs": []
    },
    {
      "cell_type": "markdown",
      "source": [
        "* if you want to change the line width of scatter \n",
        "* Then use line width parameter"
      ],
      "metadata": {
        "id": "FWUWEiFc3yFF"
      }
    },
    {
      "cell_type": "code",
      "metadata": {
        "id": "dPCASI_rUD6b"
      },
      "source": [
        "plt.figure(figsize=(16,9))\n",
        "plt.scatter(x,y,c='r',marker=\"*\",s=100,alpha=0.5,linewidths=10)\n",
        "\n",
        "\n",
        "plt.title(\"scater plot of google play store\")\n",
        "plt.xlabel(\"Rating\")\n",
        "plt.ylabel(\"Reviews\")\n",
        "plt.show()"
      ],
      "execution_count": null,
      "outputs": []
    },
    {
      "cell_type": "markdown",
      "source": [
        "* If you want t o change the edge color of scatter point\n",
        "* Then use edgecolor parameter"
      ],
      "metadata": {
        "id": "Q3nX4sru4BUD"
      }
    },
    {
      "cell_type": "code",
      "metadata": {
        "id": "A68oj1zfUa6W"
      },
      "source": [
        "plt.figure(figsize=(12,9))\n",
        "plt.scatter(x,y,c='r',marker=\"*\",s=100,alpha=0.5,linewidths=10,\n",
        "            edgecolor='g')\n",
        "\n",
        "\n",
        "plt.title(\"scater plot of google play store\")\n",
        "plt.xlabel(\"Rating\")\n",
        "plt.ylabel(\"Reviews\")\n",
        "plt.show()"
      ],
      "execution_count": null,
      "outputs": []
    },
    {
      "cell_type": "markdown",
      "source": [
        "### Two or more scatters into one"
      ],
      "metadata": {
        "id": "IuQXFfj-4cJh"
      }
    },
    {
      "cell_type": "code",
      "metadata": {
        "id": "kDmMRSHbUnDe"
      },
      "source": [
        "#verts\n",
        "plt.figure(figsize=(12,9))\n",
        "plt.scatter(x,y,c='r',marker=\"*\",s=100,alpha=0.5,linewidths=10,\n",
        "            edgecolor='g',label=\"reviw\")\n",
        "\n",
        "plt.scatter(x,df['Installs'],c='y',marker=\"<\",s=100,alpha=0.5,linewidths=10,\n",
        "            edgecolor='m',label=\"install\")\n",
        "\n",
        "plt.legend()\n",
        "plt.title(\"scater plot of google play store\")\n",
        "plt.xlabel(\"Rating\")\n",
        "plt.ylabel(\"Reviews and installs\")\n",
        "plt.show()\n"
      ],
      "execution_count": null,
      "outputs": []
    },
    {
      "cell_type": "code",
      "metadata": {
        "id": "cxnQZWkfVWIb"
      },
      "source": [
        ""
      ],
      "execution_count": null,
      "outputs": []
    },
    {
      "cell_type": "markdown",
      "metadata": {
        "id": "5JY3AF7yVpwi"
      },
      "source": [
        "## Pie Chart"
      ]
    },
    {
      "cell_type": "markdown",
      "source": [
        "*If we want to show our data information into circular form then we use pie chart"
      ],
      "metadata": {
        "id": "ZYI4GiNi9GKI"
      }
    },
    {
      "cell_type": "code",
      "source": [
        "import pandas as pd\n",
        "import numpy as np\n",
        "import matplotlib.pyplot as plt"
      ],
      "metadata": {
        "id": "Fe-KCrIf8UyJ"
      },
      "execution_count": null,
      "outputs": []
    },
    {
      "cell_type": "markdown",
      "source": [
        "* If we want to plot single value in pie chart\n",
        "* Then we will give value in list  form in pie()"
      ],
      "metadata": {
        "id": "RLuv2q1J9llU"
      }
    },
    {
      "cell_type": "code",
      "metadata": {
        "id": "QbuLSbhgWDfx"
      },
      "source": [
        "plt.pie([1])\n",
        "plt.show()"
      ],
      "execution_count": null,
      "outputs": []
    },
    {
      "cell_type": "markdown",
      "source": [
        "* If we have two value then plot pie chart"
      ],
      "metadata": {
        "id": "sUD77sAG-CST"
      }
    },
    {
      "cell_type": "code",
      "metadata": {
        "id": "3IW07mOrWI-5"
      },
      "source": [
        "plt.pie([1,2])\n",
        "plt.show()"
      ],
      "execution_count": null,
      "outputs": []
    },
    {
      "cell_type": "markdown",
      "source": [
        "* let's plot pie chat with some data"
      ],
      "metadata": {
        "id": "hM0rWp9h_CHz"
      }
    },
    {
      "cell_type": "code",
      "metadata": {
        "id": "BJ4hnuMEVs9d"
      },
      "source": [
        "classes=['py','DS','R','AI','CD'] # there are 5 classes\n",
        "batch_1=[45,15,35,25,30]             # no. of students in each classes"
      ],
      "execution_count": null,
      "outputs": []
    },
    {
      "cell_type": "markdown",
      "source": [
        "* plot pie chart for batch_1 data\n",
        "* you will get data in different color in pie chart"
      ],
      "metadata": {
        "id": "dQ_IhAcJ_XF_"
      }
    },
    {
      "cell_type": "code",
      "metadata": {
        "id": "qfc3mz0iWQnV"
      },
      "source": [
        "plt.pie(batch_1)\n",
        "plt.show()"
      ],
      "execution_count": null,
      "outputs": []
    },
    {
      "cell_type": "markdown",
      "source": [
        "* Above chart must be label means we have to label our data\n",
        "* so we will label parameter\n",
        "* here labels names are classes name"
      ],
      "metadata": {
        "id": "GX8ebH5e_s2M"
      }
    },
    {
      "cell_type": "code",
      "metadata": {
        "id": "IUltaHL4WVO-"
      },
      "source": [
        "plt.pie(batch_1,labels=classes)\n",
        "plt.show()"
      ],
      "execution_count": null,
      "outputs": []
    },
    {
      "cell_type": "markdown",
      "source": [
        "* if you want to slice data then use explode parameter\n",
        "* you have to take 5 value in list beacuse we have 5 value in classes\n",
        "* Like [0,0,0,0,0]\n",
        "* if you take this value and run the below code nothing will explode"
      ],
      "metadata": {
        "id": "1NIi-Sr0Azct"
      }
    },
    {
      "cell_type": "code",
      "source": [
        "explode=[0,0,0,0,0]\n",
        "plt.pie(batch_1,labels=classes,explode=explode)\n",
        "plt.show()\n"
      ],
      "metadata": {
        "id": "1Gwm8apEBTOT"
      },
      "execution_count": null,
      "outputs": []
    },
    {
      "cell_type": "markdown",
      "source": [
        "* for slice the  data we have to give value in float\n",
        "* you can take any value for the same\n",
        "* 'py','DS','R','AI','CD'\n",
        "* we are slicing DS and py"
      ],
      "metadata": {
        "id": "Ynz12eysBYK-"
      }
    },
    {
      "cell_type": "code",
      "metadata": {
        "id": "yLRf72ouXDCo"
      },
      "source": [
        "explode=[0.03,0,0.2,0,0]\n",
        "plt.pie(batch_1,labels=classes,explode=explode)\n",
        "plt.show()\n"
      ],
      "execution_count": null,
      "outputs": []
    },
    {
      "cell_type": "markdown",
      "source": [
        "* if you want to change the color of each slice\n",
        "* then use color parameter\n",
        "* Here we have 5 slice so we have to use 5 color in list"
      ],
      "metadata": {
        "id": "AbRC2dCLCOhc"
      }
    },
    {
      "cell_type": "code",
      "metadata": {
        "id": "jUHzhB6NX7fP"
      },
      "source": [
        "colors=['g','m','c','k','y']\n",
        "plt.pie(batch_1,labels=classes,colors=colors)\n",
        "plt.show()"
      ],
      "execution_count": null,
      "outputs": []
    },
    {
      "cell_type": "markdown",
      "source": [
        "* It may be possible that we need percentage of our batch_1 data\n",
        "Then we will use autopct it will take float value but in double quotes\n"
      ],
      "metadata": {
        "id": "oSHU-eClKSNp"
      }
    },
    {
      "cell_type": "code",
      "metadata": {
        "id": "M-Tv86dQYffD"
      },
      "source": [
        "colors=['g','m','c','b','y']\n",
        "plt.pie(batch_1,labels=classes,colors=colors,autopct=\"%0.2f%%\")\n",
        "plt.show()"
      ],
      "execution_count": null,
      "outputs": []
    },
    {
      "cell_type": "markdown",
      "source": [
        "* next parameter is shadow it will show shadow of your graph\n",
        "* it takes boolean value default is FALSE "
      ],
      "metadata": {
        "id": "9OnhCp8gLOH7"
      }
    },
    {
      "cell_type": "code",
      "metadata": {
        "id": "hyj8C5JOY2P7"
      },
      "source": [
        "colors=['g','m','c','b','y']\n",
        "plt.pie(batch_1,labels=classes,colors=colors,autopct=\"%0.2f%%\",shadow=True)\n",
        "plt.show()"
      ],
      "execution_count": null,
      "outputs": []
    },
    {
      "cell_type": "markdown",
      "source": [
        "* Next parameter is radius \n",
        "* By the help of radius parameter we can increase the pie chart size"
      ],
      "metadata": {
        "id": "VI1kWz5rLzVA"
      }
    },
    {
      "cell_type": "code",
      "metadata": {
        "id": "dcd-NyzXZZz4"
      },
      "source": [
        "plt.pie(batch_1,labels=classes,colors=colors,autopct=\"%0.2f%%\",shadow=True,\n",
        "        radius=1.4)\n",
        "plt.show()"
      ],
      "execution_count": null,
      "outputs": []
    },
    {
      "cell_type": "markdown",
      "source": [
        "* If you want to starting value with your desired angle\n",
        "* Then use startangle\n",
        "* In our case py is start point so you can take any angle\n",
        "* from 0 to 360\n",
        "* If we take any angle then it will plot in counter clock wise direction"
      ],
      "metadata": {
        "id": "6ynAv0wNMT2_"
      }
    },
    {
      "cell_type": "code",
      "metadata": {
        "id": "zXYRXTs3Zw5T"
      },
      "source": [
        "plt.pie(batch_1,labels=classes,colors=colors,autopct=\"%0.2f%%\",shadow=True,\n",
        "        radius=1.4,startangle=270)\n",
        "plt.show()"
      ],
      "execution_count": null,
      "outputs": []
    },
    {
      "cell_type": "markdown",
      "source": [
        "* Next parameter is textprops means text properties\n",
        "* Means if you want to change the properties of text on pie chart then use this parameter\n",
        "* You can change fontsize , color and other things"
      ],
      "metadata": {
        "id": "D4OWMJVsM_OF"
      }
    },
    {
      "cell_type": "code",
      "metadata": {
        "id": "XHIhCh9RaHst"
      },
      "source": [
        "#textprops\n",
        "textprops={'fontsize':15,'color':'k'}\n",
        "plt.pie(batch_1,labels=classes,colors=colors,autopct=\"%0.2f%%\",shadow=True,\n",
        "        radius=1.4,startangle=270,textprops=textprops)\n",
        "plt.show()\n"
      ],
      "execution_count": null,
      "outputs": []
    },
    {
      "cell_type": "code",
      "metadata": {
        "id": "O04ekx2WbAFb"
      },
      "source": [
        "plt.pie(batch_1,labels=classes,colors=colors,autopct=\"%0.2f%%\",shadow=True,\n",
        "        radius=1.4,startangle=270,textprops=textprops,pctdistance=0.6)\n",
        "plt.show()"
      ],
      "execution_count": null,
      "outputs": []
    },
    {
      "cell_type": "code",
      "metadata": {
        "id": "eH5wR4ywbbhx"
      },
      "source": [
        "#wedgeprops\n",
        "plt.figure(figsize=(10,7))\n",
        "wedgeprops={\"linewidth\":4,'edgecolor':'g','width':1}\n",
        "plt.pie(batch_1,labels=classes,colors=colors,autopct=\"%0.2f%%\",shadow=True,\n",
        "        radius=1.4,startangle=270,textprops=textprops,pctdistance=0.6,\n",
        "        wedgeprops=wedgeprops)\n",
        "plt.show()"
      ],
      "execution_count": null,
      "outputs": []
    },
    {
      "cell_type": "markdown",
      "source": [
        "* legend()"
      ],
      "metadata": {
        "id": "Onddar1FTEV3"
      }
    },
    {
      "cell_type": "code",
      "metadata": {
        "id": "t760aj4Ece2v"
      },
      "source": [
        "\n",
        "plt.figure(figsize=(10,7))\n",
        "wedgeprops={\"linewidth\":4,'edgecolor':'y','width':1}\n",
        "plt.pie(batch_1,labels=classes,colors=colors,autopct=\"%0.2f%%\",shadow=True,\n",
        "        radius=1.4,startangle=270,textprops=textprops,pctdistance=0.6,\n",
        "        wedgeprops=wedgeprops)\n",
        "plt.legend(loc=2)\n",
        "plt.show()"
      ],
      "execution_count": null,
      "outputs": []
    },
    {
      "cell_type": "markdown",
      "metadata": {
        "id": "ljI-8Bp8dimI"
      },
      "source": [
        "## Subplot\n",
        "* If you have many chart and you want to show all in one place\n",
        "* Then use subplot()\n",
        "* it has 3 arguments\n",
        "\n",
        "\n",
        "1.   number of rows\n",
        "2.   number of columns\n",
        "3.   index\n",
        "\n",
        "\n"
      ]
    },
    {
      "cell_type": "code",
      "metadata": {
        "id": "YsviLCRHdk75"
      },
      "source": [
        "plt.subplot(2,2,1) # 2 rows , 2 columns, 1 index\n",
        "                   # it will show 1 subplot"
      ],
      "execution_count": null,
      "outputs": []
    },
    {
      "cell_type": "code",
      "metadata": {
        "id": "XSfPwENvd2aD"
      },
      "source": [
        "plt.subplot(2,2,2)\n",
        "plt.show()\n",
        "# it will show 2 subplot"
      ],
      "execution_count": null,
      "outputs": []
    },
    {
      "cell_type": "code",
      "source": [
        "plt.subplot(2,2,1)\n",
        "plt.subplot(2,2,2)\n",
        "plt.show()\n",
        "# it will show 1 and 2 subplot"
      ],
      "metadata": {
        "id": "gxo6UsFYVb2h"
      },
      "execution_count": null,
      "outputs": []
    },
    {
      "cell_type": "markdown",
      "source": [
        "* if you want to show all 4 subplot "
      ],
      "metadata": {
        "id": "BKMc9J1YVyJV"
      }
    },
    {
      "cell_type": "code",
      "source": [
        "plt.subplot(2,2,1)\n",
        "plt.subplot(2,2,2)\n",
        "plt.subplot(2,2,3)\n",
        "plt.subplot(2,2,4)\n",
        "plt.show()\n"
      ],
      "metadata": {
        "id": "jrT9nOpGVsn2"
      },
      "execution_count": null,
      "outputs": []
    },
    {
      "cell_type": "markdown",
      "source": [
        "* plt.subplot(2,2,5 )\n",
        "* it will produce error\n",
        "* Because we have only 2 rows and 2 col so only 4 subplot is possible \n",
        "* you can try by yourself"
      ],
      "metadata": {
        "id": "QvwJQCOhWA_L"
      }
    },
    {
      "cell_type": "markdown",
      "source": [
        "* if you want to insert your desired polt in the subpolt \n",
        "* Then after subplot() you should use it\n",
        "* Here we are using only pie chart\n",
        "* You can take any char like pie, histogram, scatter,bar chart any one."
      ],
      "metadata": {
        "id": "oNslH-a6WgpI"
      }
    },
    {
      "cell_type": "code",
      "source": [
        "plt.subplot(2,2,1)\n",
        "plt.pie([1])\n",
        "plt.subplot(2,2,2)\n",
        "plt.pie([1,2])\n",
        "plt.subplot(2,2,3)\n",
        "plt.pie([1,2,3])\n",
        "plt.subplot(2,2,4)\n",
        "plt.pie([1,2,3,4])\n",
        "plt.show()\n"
      ],
      "metadata": {
        "id": "b3SAOjrLWgJa"
      },
      "execution_count": null,
      "outputs": []
    },
    {
      "cell_type": "code",
      "source": [
        "plt.subplot(3,2,1)\n",
        "plt.subplot(3,2,2)\n",
        "plt.subplot(3,2,3)\n",
        "plt.subplot(3,2,4)\n",
        "plt.subplot(3,2,5)\n",
        "plt.subplot(3,2,6)\n",
        "plt.show()\n"
      ],
      "metadata": {
        "id": "qxeoi-rMXxjq"
      },
      "execution_count": null,
      "outputs": []
    },
    {
      "cell_type": "markdown",
      "source": [
        "* The plot is very conjusted so use figure()"
      ],
      "metadata": {
        "id": "-_dNu1s7YNm3"
      }
    },
    {
      "cell_type": "code",
      "source": [
        "plt.figure(figsize=(12,9))\n",
        "plt.subplot(3,2,1)\n",
        "plt.subplot(3,2,2)\n",
        "plt.subplot(3,2,3)\n",
        "plt.subplot(3,2,4)\n",
        "plt.subplot(3,2,5)\n",
        "plt.subplot(3,2,6)\n",
        "plt.show()\n"
      ],
      "metadata": {
        "id": "DgOFGzZIXxfI"
      },
      "execution_count": null,
      "outputs": []
    },
    {
      "cell_type": "markdown",
      "source": [
        "* now insert the different charts in subpolt\n",
        "* All the charts which we are taking in subplot, have discussed earlier\n",
        "* Or you can insert any chart in the subplot"
      ],
      "metadata": {
        "id": "Pe29ml3cYi8h"
      }
    },
    {
      "cell_type": "code",
      "source": [
        "plt.figure(figsize=(16,9))\n",
        "# you can write without comman, it will work \n",
        "# plt.subplot(321)\n",
        "plt.subplot(3,2,1)\n",
        "#------------LINE PLOT-------------#\n",
        "days=[1,2,3,4,5,6,7,8,9,10,11,12,13,14,15]\n",
        "mrt_temp=[36.6,37,37.7,39,40,43,43.4,45,45.6,40.1,44,45,46.8,47,47.8]\n",
        "gzb_temp=[33,34.5,44,33,22,22.9,23.5,44,44.6,33.8,38,39,37,47,10]\n",
        "plt.plot(days,mrt_temp,color='m',marker='o',linestyle='--',linewidth=3,markersize=10,label=\"meerut line\")\n",
        "plt.plot(days,gzb_temp,color='g',marker='>',linestyle='-',linewidth=3,markersize=10,label=\"Gzb line\")\n",
        "\n",
        "plt.grid(color='w',linestyle='-',linewidth=2)\n",
        "plt.title(\"meerut and gzb temp\",fontsize=20,color='r')\n",
        "plt.xlabel(\"days\",fontsize=15)\n",
        "plt.ylabel('temprature',fontsize=15)\n",
        "plt.legend()\n",
        "\n",
        "# ------------HISTOGRAM PLOT----------------#\n",
        "\n",
        "plt.subplot(3,2,2)\n",
        "miet_student_age=np.random.randint(18,45,(100))\n",
        "mit_student_age=np.random.randint(15,40,(100))\n",
        "style.use('ggplot')\n",
        "#plt.figure(figsize=(16,9))\n",
        "plt.hist([miet_student_age,mit_student_age],rwidth=0.8,color=['r','y'],label=[\"miet student\",\"mit students\"])\n",
        "plt.grid()# you can change color and others parameters in grid ()\n",
        "plt.title(\"miet and mit student's histogram\")\n",
        "plt.xlabel(\"student age\")\n",
        "plt.ylabel(\"no of student\")\n",
        "plt.legend(loc=2)\n",
        "#plt.show()\n",
        "# ----------------BAR CHART--------------#\n",
        "plt.subplot(3,2,3)\n",
        "classes=['py','R','Ai','Ml','DS']\n",
        "class_1=[30,10,20,25,10]\n",
        "class_2=[40,5,20,20,10]\n",
        "class_3=[35,5,30,15,15]\n",
        "#style.use('ggplot')\n",
        "x=np.arange(len(classes))\n",
        "width=0.2\n",
        "plt.bar(x,class_1,width,align='edge',color='y',label=\"plotting bar\")\n",
        "plt.bar(x+width,class_2,width,align='edge',color='m',label=\"plotting bar\")\n",
        "plt.bar(x+width+width,class_3,width,align='edge',color='k',label=\"plotting bar\")\n",
        "plt.xticks(x+width,classes,rotation=30)\n",
        "plt.title(\"bar chart\")\n",
        "plt.xlabel(\"classes\")\n",
        "plt.ylabel(\"no of students\")\n",
        "plt.legend()\n",
        "\n",
        "plt.subplot(3,2,4)\n",
        "#----------------------SCATTER PLOT--------------#\n",
        "df=pd.read_csv('/content/drive/MyDrive/Colab Notebooks/03 Matplotlib/googleplaystore.csv')\n",
        "x=df['Rating']\n",
        "y=df['Reviews']\n",
        "plt.scatter(x,y,c='r',marker=\"*\",s=100,alpha=0.5,linewidths=10,\n",
        "            edgecolor='g',label=\"reviw\")\n",
        "\n",
        "plt.scatter(x,df['Installs'],c='y',marker=\"o\",s=100,alpha=0.5,linewidths=10,\n",
        "            edgecolor='m',label=\"install\")\n",
        "\n",
        "\n",
        "plt.title(\"scater plot of google play store\")\n",
        "plt.xlabel(\"Rating\")\n",
        "plt.ylabel(\"Reviews and installs\")\n",
        "plt.legend()\n",
        "#------------------------PIE CHART----------------------#\n",
        "\n",
        "plt.subplot(3,2,5)\n",
        "classes=['py','DS','R','AI','CD'] \n",
        "batch_1=[45,15,35,25,30] \n",
        "wedgeprops={\"linewidth\":4,'edgecolor':'y','width':1}\n",
        "plt.pie(batch_1,labels=classes,colors=colors,autopct=\"%0.2f%%\",shadow=True,\n",
        "        radius=1.4,startangle=270,textprops=textprops,pctdistance=0.6,\n",
        "        wedgeprops=wedgeprops)\n",
        "plt.legend(loc=2)\n",
        "#plt.show()\n",
        "plt.subplot(3,2,6)\n",
        "plt.show()\n"
      ],
      "metadata": {
        "id": "-yKeE0aFYoam"
      },
      "execution_count": null,
      "outputs": []
    },
    {
      "cell_type": "code",
      "metadata": {
        "id": "19SEw61Qd53C"
      },
      "source": [
        "plt.figure(figsize=(10,7))\n",
        "plt.subplot(2,2,1)\n",
        "wedgeprops={\"linewidth\":4,'edgecolor':'k'}\n",
        "plt.pie(batch_1,labels=classes,colors=colors,autopct=\"%0.2f%%\",shadow=True,\n",
        "        radius=1.4,startangle=270,textprops=textprops,pctdistance=0.6,\n",
        "        wedgeprops=wedgeprops)\n",
        "\n",
        "plt.subplot(2,2,2)\n",
        "plt.scatter(x,y,c='r',marker=\"*\",s=100,alpha=0.5,linewidths=10,\n",
        "            edgecolor='g',label=\"reviw\")\n",
        "\n",
        "plt.scatter(x,df['Installs'],c='y',marker=\"<\",s=100,alpha=0.5,linewidths=10,\n",
        "            edgecolor='m',label=\"install\")\n",
        "\n",
        "plt.legend()\n",
        "plt.title(\"scater plot of google play store\")\n",
        "plt.xlabel(\"Rating\")\n",
        "plt.ylabel(\"Reviews and installs\")\n",
        "plt.subplot(2,2,3)\n",
        "\n",
        "plt.subplot(2,2,4)\n",
        "plt.savefig(\"fuull\")\n",
        "plt.show()"
      ],
      "execution_count": null,
      "outputs": []
    },
    {
      "cell_type": "markdown",
      "source": [
        "## save the plot(figure)\n",
        "### lets understand savfig() parameter\n",
        "* savefig(\n",
        "  * fname--->Here we can define the output location of the image with its format type.\n",
        "  * dpi=None-->can be used to set the resolution of the file to a numeric value.\n",
        "  * facecolor(color or ‘auto’, default: ‘auto’): The facecolor of the figure. If ‘auto’, use the current figure facecolor.auto uses white(w)\n",
        "  * edgecolor(color or ‘auto’, default: ‘auto’): The edgecolor of the figure. If ‘auto’, use the current figure edgecolor.auto uses white(w)\n",
        "  *orientation='portrait'-->It is optional in [Landscape or Portrait] \n",
        "  * papertype:  Papertypes can be “a0 to a10”, “executive,” “b0 to b10”, “letter,” “legal,” “ledger.”\n",
        "  * format=None-->It is for deciding the format of the file [“.pdf”, “.png” or etc]\n",
        "  * transparent=False-->can be set to True, which causes the background of the chart to be transparent.\n",
        "  * bbox_inches: Only a given portion of the figure is saved. Set it as “tight” for the proper fit of the saved figure.\n",
        "  * pad_inches: (default: 0.1) Amount padding around the saved figure.\n",
        "  * frameon=None, \n",
        "  * metadata=None)"
      ],
      "metadata": {
        "id": "6XLFL7U5bRm_"
      }
    },
    {
      "cell_type": "markdown",
      "source": [
        "### dpi--dot per inch\n"
      ],
      "metadata": {
        "id": "rBH2ywokg4SP"
      }
    },
    {
      "cell_type": "code",
      "metadata": {
        "id": "8x-qPUgigS5M"
      },
      "source": [
        "plt.pie([1,2])\n",
        "plt.savefig(\"sep\",dpi=50,facecolor='k') \n",
        "plt.show()"
      ],
      "execution_count": null,
      "outputs": []
    },
    {
      "cell_type": "code",
      "metadata": {
        "id": "gIW9TM83gvrQ"
      },
      "source": [
        "plt.pie([1,2])\n",
        "plt.savefig(\"sep\",dpi=50,facecolor='g',orientation='landscape',\n",
        "            quality=99)\n",
        "plt.show()"
      ],
      "execution_count": null,
      "outputs": []
    },
    {
      "cell_type": "markdown",
      "source": [
        "### if you want to show the image then use imshow()\n",
        "### you have to import matplotlib.image as mpimg"
      ],
      "metadata": {
        "id": "aM5xLBOFhL8s"
      }
    },
    {
      "cell_type": "code",
      "metadata": {
        "id": "of4GEXW-hhQv"
      },
      "source": [
        "#imshow()\n",
        "import matplotlib.image as mpimg"
      ],
      "execution_count": null,
      "outputs": []
    },
    {
      "cell_type": "markdown",
      "source": [
        "### first you have to read image by imread()\n",
        "* it will read image as ndarray"
      ],
      "metadata": {
        "id": "j7Y5zSU5heOM"
      }
    },
    {
      "cell_type": "code",
      "metadata": {
        "id": "sXCuI2MniQwc"
      },
      "source": [
        "img=mpimg.imread(\"/content/drive/MyDrive/Colab Notebooks/03 Matplotlib/forest.jpg\")\n",
        "img"
      ],
      "execution_count": null,
      "outputs": []
    },
    {
      "cell_type": "code",
      "metadata": {
        "id": "BI1kR694i22Z"
      },
      "source": [
        "type(img)"
      ],
      "execution_count": null,
      "outputs": []
    },
    {
      "cell_type": "code",
      "metadata": {
        "id": "8bnBYN6DjEQA"
      },
      "source": [
        "img.shape"
      ],
      "execution_count": null,
      "outputs": []
    },
    {
      "cell_type": "code",
      "metadata": {
        "id": "zZUDIvExjG8_"
      },
      "source": [
        "img.ndim"
      ],
      "execution_count": null,
      "outputs": []
    },
    {
      "cell_type": "code",
      "metadata": {
        "id": "HFdtf1rrjNVP"
      },
      "source": [
        "\n",
        "plt.figure(figsize=(10,7))\n",
        "plt.imshow(img)\n",
        "plt.axis(\"off\")\n",
        "plt.show()"
      ],
      "execution_count": null,
      "outputs": []
    },
    {
      "cell_type": "code",
      "metadata": {
        "id": "vUUHFqYWjZ8E"
      },
      "source": [
        "\n",
        "plt.figure(figsize=(10,7))\n",
        "plt.imshow(img)\n",
        "plt.colorbar()\n",
        "plt.axis(\"off\")\n",
        "plt.show()"
      ],
      "execution_count": null,
      "outputs": []
    },
    {
      "cell_type": "code",
      "metadata": {
        "id": "LGGyjb5Ejxg6"
      },
      "source": [
        "\n",
        "plt.figure(figsize=(10,7))\n",
        "plt.imshow(img,cmap='hot')\n",
        "plt.colorbar()\n",
        "plt.axis(\"off\")\n",
        "plt.show()"
      ],
      "execution_count": null,
      "outputs": []
    },
    {
      "cell_type": "code",
      "metadata": {
        "id": "5g4ZED8Fj9f5"
      },
      "source": [
        "single_channel=img[:,:,1]\n",
        "plt.figure(figsize=(10,7))\n",
        "plt.imshow(single_channel,cmap='hot')\n",
        "plt.colorbar()\n",
        "plt.axis(\"off\")\n",
        "plt.show()"
      ],
      "execution_count": null,
      "outputs": []
    },
    {
      "cell_type": "code",
      "metadata": {
        "id": "ZfcrqVCnklDS"
      },
      "source": [
        "x='Accent', 'Accent_r', 'Blues', 'Blues_r', 'BrBG', 'BrBG_r', 'BuGn', 'BuGn_r', 'BuPu', 'BuPu_r', 'CMRmap', 'CMRmap_r', 'Dark2', 'Dark2_r', 'GnBu', 'GnBu_r', 'Greens', 'Greens_r', 'Greys', 'Greys_r', 'OrRd', 'OrRd_r', 'Oranges', 'Oranges_r', 'PRGn', 'PRGn_r', 'Paired', 'Paired_r', 'Pastel1', 'Pastel1_r', 'Pastel2', 'Pastel2_r', 'PiYG', 'PiYG_r', 'PuBu', 'PuBuGn', 'PuBuGn_r', 'PuBu_r', 'PuOr', 'PuOr_r', 'PuRd', 'PuRd_r', 'Purples', 'Purples_r', 'RdBu', 'RdBu_r', 'RdGy', 'RdGy_r', 'RdPu', 'RdPu_r', 'RdYlBu', 'RdYlBu_r', 'RdYlGn', 'RdYlGn_r', 'Reds', 'Reds_r', 'Set1', 'Set1_r', 'Set2', 'Set2_r', 'Set3', 'Set3_r', 'Spectral', 'Spectral_r', 'Wistia', 'Wistia_r', 'YlGn', 'YlGnBu', 'YlGnBu_r', 'YlGn_r', 'YlOrBr', 'YlOrBr_r', 'YlOrRd', 'YlOrRd_r', 'afmhot', 'afmhot_r', 'autumn', 'autumn_r', 'binary', 'binary_r', 'bone', 'bone_r', 'brg', 'brg_r', 'bwr', 'bwr_r', 'cividis', 'cividis_r', 'cool', 'cool_r', 'coolwarm', 'coolwarm_r', 'copper', 'copper_r', 'cubehelix', 'cubehelix_r', 'flag', 'flag_r', 'gist_earth', 'gist_earth_r', 'gist_gray', 'gist_gray_r', 'gist_heat', 'gist_heat_r', 'gist_ncar', 'gist_ncar_r', 'gist_rainbow', 'gist_rainbow_r', 'gist_stern', 'gist_stern_r', 'gist_yarg', 'gist_yarg_r', 'gnuplot', 'gnuplot2', 'gnuplot2_r', 'gnuplot_r', 'gray', 'gray_r', 'hot', 'hot_r', 'hsv', 'hsv_r', 'inferno', 'inferno_r', 'jet', 'jet_r', 'magma', 'magma_r', 'nipy_spectral', 'nipy_spectral_r', 'ocean'"
      ],
      "execution_count": null,
      "outputs": []
    },
    {
      "cell_type": "code",
      "metadata": {
        "id": "IRyERqM2lSHP"
      },
      "source": [
        "print(len(x))"
      ],
      "execution_count": null,
      "outputs": []
    },
    {
      "cell_type": "code",
      "metadata": {
        "id": "b66ITYdRlcp4"
      },
      "source": [
        "for i in range(len(x)):\n",
        "  single_channel=img[:,:,1]\n",
        "  plt.figure(figsize=(10,7))\n",
        "  plt.imshow(single_channel,cmap=x[i])\n",
        "  plt.colorbar()\n",
        "  plt.axis(\"off\")\n",
        "  plt.savefig('photo'+x[i]+\".png\")\n",
        "  plt.show()\n"
      ],
      "execution_count": null,
      "outputs": []
    },
    {
      "cell_type": "code",
      "metadata": {
        "id": "2zB81Aa6mK1Y"
      },
      "source": [
        ""
      ],
      "execution_count": null,
      "outputs": []
    }
  ]
}